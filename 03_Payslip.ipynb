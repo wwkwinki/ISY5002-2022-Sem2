{
  "nbformat": 4,
  "nbformat_minor": 0,
  "metadata": {
    "colab": {
      "name": "03_Payslip.ipynb",
      "provenance": [],
      "include_colab_link": true
    },
    "kernelspec": {
      "name": "python3",
      "display_name": "Python 3"
    },
    "language_info": {
      "name": "python"
    }
  },
  "cells": [
    {
      "cell_type": "markdown",
      "metadata": {
        "id": "view-in-github",
        "colab_type": "text"
      },
      "source": [
        "<a href=\"https://colab.research.google.com/github/wwkwinki/ISY5002-2022-Sem2/blob/main/03_Payslip.ipynb\" target=\"_parent\"><img src=\"https://colab.research.google.com/assets/colab-badge.svg\" alt=\"Open In Colab\"/></a>"
      ]
    },
    {
      "cell_type": "markdown",
      "source": [
        "# Task: Write a program to print out a payslip for hourly paid employees. <br>\n",
        "Modify the Gross pay activity to print out a payslip for hourly paid employees.<br>Refer to week 2's Gross Pay activity.\n",
        "\n",
        "[What has to be on a pay slip?](https://www.fairwork.gov.au/pay-and-wages/paying-wages/pay-slips#what-has-to-be-on-a-pay-slip)\n",
        "\n",
        "[Resident tax rates 2022–23](https://www.ato.gov.au/rates/individual-income-tax-rates/)"
      ],
      "metadata": {
        "id": "2jQsL4QPFfuG"
      }
    },
    {
      "cell_type": "code",
      "execution_count": 2,
      "metadata": {
        "id": "bKtEUVfhD1GO",
        "outputId": "b1050e46-aab7-4ab8-ece3-00fbf2d516da",
        "colab": {
          "base_uri": "https://localhost:8080/"
        }
      },
      "outputs": [
        {
          "output_type": "stream",
          "name": "stdout",
          "text": [
            "Enter date of payment: 12/8/2022\n",
            "Enter your Name: Winki Wong\n",
            "Enter you pay period: July 2022\n",
            "Rate per hour: 30\n",
            "worked hour: 25\n",
            "12/8/2022\n",
            "Name:  Winki Wong\n",
            "Pay Period:  July 2022\n",
            "Rate per hour:  30\n",
            "Total working hours:  25\n",
            "Gross pay:  750\n"
          ]
        }
      ],
      "source": [
        "date = input(\"Enter date of payment: \")\n",
        "name = input(\"Enter your Name: \")\n",
        "period = input(\"Enter you pay period: \")\n",
        "rate = int(input(\"Rate per hour: \"))\n",
        "workedhour = int(input(\"worked hour: \"))\n",
        "\n",
        "\n",
        "print(date)\n",
        "print (\"Name: \", name)\n",
        "print (\"Pay Period: \", period)\n",
        "print (\"Rate per hour: \", rate)\n",
        "print (\"Total working hours: \", workedhour)\n",
        "\n",
        "grosspay = (rate * workedhour)\n",
        "print (\"Gross pay: \", grosspay)"
      ]
    },
    {
      "cell_type": "code",
      "source": [
        "print(\"Pay Slip\")\n",
        "print(date)\n",
        "print (\"Name: \", name)\n",
        "print (\"Pay Period: \", period)\n",
        "print (\"Rate per hour: \", rate)\n",
        "print (\"Total working hours: \", workedhour)\n",
        "\n",
        "grosspay = (rate * workedhour)\n",
        "print (\"Gross pay: \", grosspay)"
      ],
      "metadata": {
        "id": "oqpmmsC8nuyC",
        "outputId": "181a2431-a4e4-43a8-fa4e-b52403d0f224",
        "colab": {
          "base_uri": "https://localhost:8080/"
        }
      },
      "execution_count": 4,
      "outputs": [
        {
          "output_type": "stream",
          "name": "stdout",
          "text": [
            "Pay Slip\n",
            "12/8/2022\n",
            "Name:  Winki Wong\n",
            "Pay Period:  July 2022\n",
            "Rate per hour:  30\n",
            "Total working hours:  25\n",
            "Gross pay:  750\n"
          ]
        }
      ]
    }
  ]
}