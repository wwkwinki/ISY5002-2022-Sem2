{
  "nbformat": 4,
  "nbformat_minor": 0,
  "metadata": {
    "colab": {
      "name": "WeeklySubmission04_Payslip_Functions.ipynb",
      "provenance": [],
      "include_colab_link": true
    },
    "kernelspec": {
      "name": "python3",
      "display_name": "Python 3"
    },
    "language_info": {
      "name": "python"
    }
  },
  "cells": [
    {
      "cell_type": "markdown",
      "metadata": {
        "id": "view-in-github",
        "colab_type": "text"
      },
      "source": [
        "<a href=\"https://colab.research.google.com/github/wwkwinki/ISY5002-2022-Sem2/blob/main/WeeklySubmission04_Payslip_Functions.ipynb\" target=\"_parent\"><img src=\"https://colab.research.google.com/assets/colab-badge.svg\" alt=\"Open In Colab\"/></a>"
      ]
    },
    {
      "cell_type": "markdown",
      "source": [
        "# Task: Write a program to print out a payslip for hourly paid employees. <br>\n",
        "Modify the Gross pay & paylisp activities to print out a payslip for hourly paid employees.<br>Refer to week 2's Gross Pay and week 3's Payslip submission activities.\n",
        "\n",
        "[What has to be on a pay slip?](https://www.fairwork.gov.au/pay-and-wages/paying-wages/pay-slips#what-has-to-be-on-a-pay-slip)\n",
        "\n",
        "[Resident tax rates 2022–23](https://www.ato.gov.au/rates/individual-income-tax-rates/)"
      ],
      "metadata": {
        "id": "2jQsL4QPFfuG"
      }
    },
    {
      "cell_type": "markdown",
      "source": [
        "# Implement this Payslip program as functions:\n",
        "\n",
        "- Function to receive details to calculate income\n",
        "- Function to calculate income, tax payable & income after tax\n",
        "- Function to print the payslip with details: \n",
        "> employee name, hourly pay rate, hours worked, gross income, tax payable, income after tax\n",
        "\n"
      ],
      "metadata": {
        "id": "u6HZryjcFBok"
      }
    },
    {
      "cell_type": "markdown",
      "source": [
        "## Step 1: Get Income details"
      ],
      "metadata": {
        "id": "r2IUoUrsGfyW"
      }
    },
    {
      "cell_type": "code",
      "source": [
        "name = input(\"Enter your name: \")\n",
        "\n",
        "income = int(input(\"Enter the hourly pay rate: \"))\n",
        "\n",
        "hour = int(input('Enter the hours worked: '))\n",
        "\n",
        "gross_income = income * hour\n",
        "print ('The gross income is', gross_income)\n",
        "\n",
        "\n",
        "\n"
      ],
      "metadata": {
        "id": "BQq3gCd1GVwf",
        "colab": {
          "base_uri": "https://localhost:8080/"
        },
        "outputId": "57121f11-3c49-4e22-cb52-1d2f83227e2b"
      },
      "execution_count": null,
      "outputs": [
        {
          "output_type": "stream",
          "name": "stdout",
          "text": [
            "Enter your name: Winki\n",
            "Enter the hourly pay rate: 50\n",
            "Enter the hours worked: 400\n",
            "The gross income is 20000\n"
          ]
        }
      ]
    },
    {
      "cell_type": "markdown",
      "source": [
        "## Step 2: Calculate the income, tax payable & income after tax"
      ],
      "metadata": {
        "id": "pgt-5XVqGnWG"
      }
    },
    {
      "cell_type": "code",
      "source": [
        "payRate = int(input(\"Enter the hourly pay rate: \"))\n",
        "\n",
        "hour = int(input('Enter the hours worked: '))\n",
        "\n",
        "gross_income = payRate * hour\n",
        "print ('The gross income is', gross_income)\n",
        "\n",
        "if gross_income <= 18200:\n",
        "  tax_payable = 0\n",
        "elif 18201 <= gross_income <= 45000:\n",
        "  tax_payable = (gross_income - 18200) *0.19\n",
        "elif 45000 < income <= 120000:\n",
        "  tax_payable = ((gross_income - 45000) *0.325) + 5092\n",
        "elif 120001 <= gross_income <= 180000:\n",
        "  tax_payable = ((gross_income - 120000) *0.37) + 29467\n",
        "else:\n",
        "  tax_payable = ((gross_income - 120000) *0.45) + 51667\n",
        "\n",
        "\n",
        "print(\"The tax payable is$\", tax_payable)\n",
        "\n",
        "income_aftertax = gross_income - tax_payable\n",
        "print(\"The income after tax is $\", income_aftertax)"
      ],
      "metadata": {
        "id": "WIXvwfVVGtbM",
        "colab": {
          "base_uri": "https://localhost:8080/"
        },
        "outputId": "9cecc627-2926-4645-a2c0-930c80fb4cda"
      },
      "execution_count": null,
      "outputs": [
        {
          "output_type": "stream",
          "name": "stdout",
          "text": [
            "Enter the hourly pay rate: 50\n",
            "Enter the hours worked: 400\n",
            "The gross income is 20000\n",
            "The tax payable is$ 342.0\n",
            "The income after tax is $ 19658.0\n"
          ]
        }
      ]
    },
    {
      "cell_type": "code",
      "source": [
        "def get_income():\n",
        "  payRate = int(input(\"Enter the hourly pay rate: \"))\n",
        "  hour = int(input('Enter the hours worked: '))\n",
        "  gross_income = payRate * hour\n",
        "  print ('The gross income is', gross_income)\n",
        "  return gross_income\n",
        "  \n",
        "\n"
      ],
      "metadata": {
        "id": "1Iz4ab0A9UYe"
      },
      "execution_count": null,
      "outputs": []
    },
    {
      "cell_type": "code",
      "source": [
        "get_income()"
      ],
      "metadata": {
        "colab": {
          "base_uri": "https://localhost:8080/"
        },
        "id": "8YjM_EvI_AOm",
        "outputId": "452fc358-58f2-4754-bd01-5c10cb608673"
      },
      "execution_count": null,
      "outputs": [
        {
          "output_type": "stream",
          "name": "stdout",
          "text": [
            "Enter the hourly pay rate: 50\n",
            "Enter the hours worked: 400\n",
            "The gross income is 20000\n"
          ]
        },
        {
          "output_type": "execute_result",
          "data": {
            "text/plain": [
              "20000"
            ]
          },
          "metadata": {},
          "execution_count": 96
        }
      ]
    },
    {
      "cell_type": "code",
      "source": [
        "incomeVal = get_income() "
      ],
      "metadata": {
        "colab": {
          "base_uri": "https://localhost:8080/"
        },
        "id": "d0mkTZ5TB7Md",
        "outputId": "d3145bc2-046a-4555-a8c7-1c93ed96b4ab"
      },
      "execution_count": null,
      "outputs": [
        {
          "output_type": "stream",
          "name": "stdout",
          "text": [
            "Enter the hourly pay rate: 50\n",
            "Enter the hours worked: 400\n",
            "The gross income is 20000\n"
          ]
        }
      ]
    },
    {
      "cell_type": "code",
      "source": [
        "def calculate_tax_payable(gross_income):\n",
        "   \n",
        "  if gross_income <= 18200:\n",
        "    tax_payable = 0\n",
        "  elif 18201 <= gross_income <= 45000:\n",
        "    tax_payable = (gross_income - 18200) *0.19\n",
        "  elif 45000 < gross_income <= 120000:\n",
        "    tax_payable = ((gross_income - 45000) *0.325) + 5092\n",
        "  elif 120001 <= gross_income <= 180000:\n",
        "    tax_payable = ((gross_income - 120000) *0.37) + 29467\n",
        "  else:\n",
        "    tax_payable = ((gross_income - 120000) *0.45) + 51667\n",
        "  \n",
        "  return tax_payable"
      ],
      "metadata": {
        "id": "Q49gZogT96NX"
      },
      "execution_count": null,
      "outputs": []
    },
    {
      "cell_type": "code",
      "source": [
        "taxPay = calculate_tax_payable(incomeVal)"
      ],
      "metadata": {
        "id": "uoSdH59b-TY7"
      },
      "execution_count": null,
      "outputs": []
    },
    {
      "cell_type": "code",
      "source": [
        "print(taxPay)"
      ],
      "metadata": {
        "colab": {
          "base_uri": "https://localhost:8080/"
        },
        "id": "vL0ql5DH-Y-W",
        "outputId": "51f4bcd4-ef81-4db6-ee2b-081057717f0a"
      },
      "execution_count": null,
      "outputs": [
        {
          "output_type": "stream",
          "name": "stdout",
          "text": [
            "342.0\n"
          ]
        }
      ]
    },
    {
      "cell_type": "code",
      "source": [
        "def output(name, income, tax_payable):\n",
        "  print(\"Payslip for \",name , sep='')\n",
        "  print(\"The gross income is $\", income, sep='')\n",
        "  print(\"The tax payable is $\", tax_payable, sep='')\n",
        "  finalIncome = income - tax_payable\n",
        "  print(\"The income after tax is $\", finalIncome, sep='')"
      ],
      "metadata": {
        "id": "kBzxlDKvD6C1"
      },
      "execution_count": null,
      "outputs": []
    },
    {
      "cell_type": "code",
      "source": [
        "output(name, incomeVal, taxPay)"
      ],
      "metadata": {
        "colab": {
          "base_uri": "https://localhost:8080/"
        },
        "id": "AMENHADQ-l-I",
        "outputId": "2bac9009-3bc2-448b-d765-93fef020bbd1"
      },
      "execution_count": null,
      "outputs": [
        {
          "output_type": "stream",
          "name": "stdout",
          "text": [
            "Payslip for Winki\n",
            "The gross income is $20000\n",
            "The tax payable is $342.0\n",
            "The income after tax is $19658.0\n"
          ]
        }
      ]
    },
    {
      "cell_type": "code",
      "source": [
        "def get_income():\n",
        "\n",
        "  name = (input(\"Please enter employee name.\"))\n",
        "  rate = int(input(\"Please enter the hourly rate: \"))\n",
        "  hoursworked = int(input(\"Please enter hours worked: \"))\n",
        "  income = rate * hoursworked\n",
        "  return name, rate, hoursworked, income"
      ],
      "metadata": {
        "id": "5nLGgXjdACOj"
      },
      "execution_count": null,
      "outputs": []
    },
    {
      "cell_type": "code",
      "source": [
        ""
      ],
      "metadata": {
        "id": "fgQlhGE1AQNy"
      },
      "execution_count": null,
      "outputs": []
    },
    {
      "cell_type": "code",
      "source": [
        ""
      ],
      "metadata": {
        "id": "BalmeBw9Adej"
      },
      "execution_count": null,
      "outputs": []
    },
    {
      "cell_type": "markdown",
      "source": [
        "## Step 3: Print the payslip"
      ],
      "metadata": {
        "id": "kO2J7-wTGt-k"
      }
    },
    {
      "cell_type": "code",
      "source": [
        ""
      ],
      "metadata": {
        "id": "Q0NmbiWUG7A8"
      },
      "execution_count": null,
      "outputs": []
    },
    {
      "cell_type": "code",
      "source": [
        ""
      ],
      "metadata": {
        "id": "j9puMz75EmvD"
      },
      "execution_count": null,
      "outputs": []
    },
    {
      "cell_type": "code",
      "source": [
        ""
      ],
      "metadata": {
        "id": "7KDdEA5CHTmg"
      },
      "execution_count": null,
      "outputs": []
    },
    {
      "cell_type": "code",
      "source": [
        ""
      ],
      "metadata": {
        "id": "Ww9bRE2fHslL"
      },
      "execution_count": null,
      "outputs": []
    },
    {
      "cell_type": "markdown",
      "source": [
        ""
      ],
      "metadata": {
        "id": "7Z145WVjEl1r"
      }
    },
    {
      "cell_type": "markdown",
      "metadata": {
        "id": "BNdsJ9jszwRi"
      },
      "source": [
        "## Task 2 - Complete the program"
      ]
    },
    {
      "cell_type": "code",
      "execution_count": null,
      "metadata": {
        "id": "pd8m2I1uMuAu",
        "colab": {
          "base_uri": "https://localhost:8080/"
        },
        "outputId": "5565aa1c-bb1e-4503-ba3c-33c807203c57"
      },
      "outputs": [
        {
          "output_type": "stream",
          "name": "stdout",
          "text": [
            "Please enter employee name.Winki\n",
            "Please enter the hourly rate: 50\n",
            "Please enter hours worked: 400\n",
            "Payslip for Winki\n",
            "The gross income is $20000\n",
            "The tax payable is $342.0\n",
            "The income after tax is $19658.0\n"
          ]
        }
      ],
      "source": [
        "# 'Main line'\n",
        "\n",
        "# Step 1 - Get details\n",
        "income_input = get_income()\n",
        "\n",
        "# Step 2 - Calculate \n",
        "\n",
        "\n",
        "# Step 3 - Output result - Print payslip\n",
        "output(name, incomeVal, taxPay)"
      ]
    }
  ]
}