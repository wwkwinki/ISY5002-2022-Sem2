{
  "cells": [
    {
      "cell_type": "markdown",
      "metadata": {
        "id": "view-in-github",
        "colab_type": "text"
      },
      "source": [
        "<a href=\"https://colab.research.google.com/github/wwkwinki/ISY5002-2022-Sem2/blob/main/05_input_validation.ipynb\" target=\"_parent\"><img src=\"https://colab.research.google.com/assets/colab-badge.svg\" alt=\"Open In Colab\"/></a>"
      ]
    },
    {
      "cell_type": "markdown",
      "id": "b5835b0c",
      "metadata": {
        "id": "b5835b0c"
      },
      "source": [
        "# Input Validation\n",
        "\n",
        "Input validation code verifies that user supplied data, such as text from the input() function, is formatted appropriately.\n",
        "\n",
        "* isdigit()\n",
        "* try/except\n",
        "* PyInputPlus\n",
        "\n"
      ]
    },
    {
      "cell_type": "code",
      "source": [
        "salaryStr = (input (\"Enter the hourly pay rate: \"))\n",
        "\n",
        "print(salaryStr)"
      ],
      "metadata": {
        "id": "BA8h-pV08W0s",
        "colab": {
          "base_uri": "https://localhost:8080/",
          "height": 0
        },
        "outputId": "75a1ffae-dab1-49e8-92aa-de6a464679b6"
      },
      "id": "BA8h-pV08W0s",
      "execution_count": 6,
      "outputs": [
        {
          "output_type": "stream",
          "name": "stdout",
          "text": [
            "Enter the hourly pay rate: wewe\n",
            "wewe\n"
          ]
        }
      ]
    },
    {
      "cell_type": "markdown",
      "id": "acc7252b",
      "metadata": {
        "id": "acc7252b"
      },
      "source": [
        "## isdigit()"
      ]
    },
    {
      "cell_type": "code",
      "execution_count": 6,
      "id": "695b1f5f",
      "metadata": {
        "id": "695b1f5f",
        "colab": {
          "base_uri": "https://localhost:8080/",
          "height": 130
        },
        "outputId": "155e9aa9-c301-48ad-be05-69ace0c0e67d"
      },
      "outputs": [
        {
          "output_type": "error",
          "ename": "IndentationError",
          "evalue": "ignored",
          "traceback": [
            "\u001b[0;36m  File \u001b[0;32m\"<ipython-input-6-b10d4f77881e>\"\u001b[0;36m, line \u001b[0;32m2\u001b[0m\n\u001b[0;31m    salaryStr = (input (\"Enter the hourly pay rate: \"))\u001b[0m\n\u001b[0m            ^\u001b[0m\n\u001b[0;31mIndentationError\u001b[0m\u001b[0;31m:\u001b[0m expected an indented block\n"
          ]
        }
      ],
      "source": [
        "while True:\n",
        "salaryStr = (input (\"Enter the hourly pay rate: \"))\n",
        "if salaryStr.isdecimal():\n",
        "  float(salaryStr)\n",
        "  break\n",
        "else:\n",
        "  print(\"Invalid input for pay rate. Please enter a numeric value for pay rate: \")\n",
        "\n",
        "  print(\"The pay rate is: \", salaryStr)"
      ]
    },
    {
      "cell_type": "code",
      "source": [
        ""
      ],
      "metadata": {
        "id": "2T1VPdz4e35q"
      },
      "id": "2T1VPdz4e35q",
      "execution_count": null,
      "outputs": []
    },
    {
      "cell_type": "markdown",
      "source": [
        "## try/except"
      ],
      "metadata": {
        "id": "qbYXnPLGeY6m"
      },
      "id": "qbYXnPLGeY6m"
    },
    {
      "cell_type": "code",
      "execution_count": null,
      "id": "5f98c241",
      "metadata": {
        "id": "5f98c241"
      },
      "outputs": [],
      "source": [
        "try:\n",
        "  pay_rate = float(input(\"Enter the hourly pay rate: \"))\n",
        "except:\n",
        "  print(\"Please enter a valid input for pay rate. Pay rate must be numric value.\")"
      ]
    },
    {
      "cell_type": "code",
      "source": [
        "try:\n",
        "  pay_rate = float(input(\"Enter the hourly pay rate: \"))\n",
        "except:\n",
        "  print(\"Please enter a valid input for pay rate. Pay rate must be numric value.\")\n",
        "except ZeroDivisionError as err:\n",
        "  print(\"Handling run-time error: \", err)\n"
      ],
      "metadata": {
        "id": "zrBmlwko8D6Z",
        "colab": {
          "base_uri": "https://localhost:8080/",
          "height": 130
        },
        "outputId": "9a39d2c7-f73e-41c4-a830-b6f4c392a97f"
      },
      "id": "zrBmlwko8D6Z",
      "execution_count": 12,
      "outputs": [
        {
          "output_type": "error",
          "ename": "SyntaxError",
          "evalue": "ignored",
          "traceback": [
            "\u001b[0;36m  File \u001b[0;32m\"<ipython-input-12-f1b457367b3a>\"\u001b[0;36m, line \u001b[0;32m5\u001b[0m\n\u001b[0;31m    except ZeroDivisionError as err:\u001b[0m\n\u001b[0m             ^\u001b[0m\n\u001b[0;31mSyntaxError\u001b[0m\u001b[0;31m:\u001b[0m default 'except:' must be last\n"
          ]
        }
      ]
    },
    {
      "cell_type": "markdown",
      "id": "18c00dc3",
      "metadata": {
        "id": "18c00dc3"
      },
      "source": [
        "## Module: PyInputPlus"
      ]
    },
    {
      "cell_type": "code",
      "execution_count": null,
      "id": "dfe1740b",
      "metadata": {
        "id": "dfe1740b"
      },
      "outputs": [],
      "source": [
        "pip install pyinputPlus"
      ]
    },
    {
      "cell_type": "code",
      "source": [
        "import pyinputplus as pyip\n",
        "\n",
        "while True:\n",
        "  payRate = pyip.inputFloat(\"Enter the pay rate: \")\n",
        "  print(\"The pay rate is \", payRate)\n",
        "\n",
        "  respone = pyip.inputYesNo(\"Do you want to continue\")\n",
        "  if respone == 'no':\n",
        "    break"
      ],
      "metadata": {
        "id": "OvqPitIkh379",
        "colab": {
          "base_uri": "https://localhost:8080/"
        },
        "outputId": "254c12aa-cb08-4354-e78d-55ccf95ca8e8"
      },
      "id": "OvqPitIkh379",
      "execution_count": 28,
      "outputs": [
        {
          "name": "stdout",
          "output_type": "stream",
          "text": [
            "Enter the pay rate: 23\n",
            "The pay rate is  23.0\n",
            "Do you want to continue23\n",
            "'23' is not a valid yes/no response.\n",
            "Do you want to continueno\n"
          ]
        }
      ]
    },
    {
      "cell_type": "markdown",
      "source": [
        "# Task: Implement input validation for Pay slip program\n",
        "\n",
        "- forthnightly payslip for hourly paid employee\n",
        "- pay after tax each forthnight"
      ],
      "metadata": {
        "id": "C2lOxtVxAbUf"
      },
      "id": "C2lOxtVxAbUf"
    },
    {
      "cell_type": "code",
      "source": [
        ""
      ],
      "metadata": {
        "id": "eSpyR_IBE8Jw"
      },
      "id": "eSpyR_IBE8Jw",
      "execution_count": null,
      "outputs": []
    }
  ],
  "metadata": {
    "kernelspec": {
      "display_name": "Python 3 (ipykernel)",
      "language": "python",
      "name": "python3"
    },
    "language_info": {
      "codemirror_mode": {
        "name": "ipython",
        "version": 3
      },
      "file_extension": ".py",
      "mimetype": "text/x-python",
      "name": "python",
      "nbconvert_exporter": "python",
      "pygments_lexer": "ipython3",
      "version": "3.9.6"
    },
    "colab": {
      "name": "05_input_validation.ipynb",
      "provenance": [],
      "include_colab_link": true
    }
  },
  "nbformat": 4,
  "nbformat_minor": 5
}