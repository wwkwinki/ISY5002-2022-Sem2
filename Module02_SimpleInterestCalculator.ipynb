{
  "nbformat": 4,
  "nbformat_minor": 0,
  "metadata": {
    "colab": {
      "name": "Module02_SimpleInterestCalculator.ipynb",
      "provenance": [],
      "collapsed_sections": [],
      "include_colab_link": true
    },
    "kernelspec": {
      "name": "python3",
      "display_name": "Python 3"
    },
    "language_info": {
      "name": "python"
    }
  },
  "cells": [
    {
      "cell_type": "markdown",
      "metadata": {
        "id": "view-in-github",
        "colab_type": "text"
      },
      "source": [
        "<a href=\"https://colab.research.google.com/github/wwkwinki/ISY5002-2022-Sem2/blob/main/Module02_SimpleInterestCalculator.ipynb\" target=\"_parent\"><img src=\"https://colab.research.google.com/assets/colab-badge.svg\" alt=\"Open In Colab\"/></a>"
      ]
    },
    {
      "cell_type": "markdown",
      "source": [
        "# Simple Interest Calculator\n",
        "\n",
        "The process of problem solving we will use can be broken down into 6 key steps:\n",
        "1. State the problem clearly\n",
        "2. Describe the input and output information\n",
        "3. Work the problem by hand\n",
        "4. Develop an algorithm / pseudocode\n",
        "5. Convert pseudoce to Python program code\n",
        "6. Test solution with a variety of data\n",
        "\n",
        "## Work Flow\n",
        "1. Save to Github\n",
        "2. Analyse problem/requirement & Design the algorithm/pseudocode\n",
        "3. Write and test the program"
      ],
      "metadata": {
        "id": "iGq9-ZTb3VCF"
      }
    },
    {
      "cell_type": "markdown",
      "source": [
        "# Problem/Requirement:\n",
        "\n",
        "Bank ABC wants to calculate their client's loan interest using the simple interest method as explained at https://www.bankrate.com/loans/personal-loans/how-to-calculate-loan-interest/\n",
        "\n",
        "Write a program for bank ABC to compute the loan interest on their client's borrowed amount based on the simple interest method. \n",
        "\n",
        "\n",
        "\n",
        "\n"
      ],
      "metadata": {
        "id": "bhfP5hvE4k7C"
      }
    },
    {
      "cell_type": "markdown",
      "source": [
        "# 1. State Problem Clearly"
      ],
      "metadata": {
        "id": "DSkLjERz3vF4"
      }
    },
    {
      "cell_type": "markdown",
      "source": [
        "compute the loan interest on their client's borrowed amount based on the simple interest method."
      ],
      "metadata": {
        "id": "tVaK-EQo4ff8"
      }
    },
    {
      "cell_type": "code",
      "source": [
        ""
      ],
      "metadata": {
        "id": "KDozzRhU9z2l"
      },
      "execution_count": null,
      "outputs": []
    },
    {
      "cell_type": "markdown",
      "source": [
        "# 2. Describe Inputs and Outputs"
      ],
      "metadata": {
        "id": "25s3HK5730CD"
      }
    },
    {
      "cell_type": "markdown",
      "source": [
        "Inputs --> Pricipal loan amount, interest rate and the number of years\n",
        "\n",
        "Processing:\n",
        "\n",
        "Output --> Simple interst rate"
      ],
      "metadata": {
        "id": "JLhIpogG4gKn"
      }
    },
    {
      "cell_type": "code",
      "source": [
        ""
      ],
      "metadata": {
        "id": "9t6SltLqS4qJ"
      },
      "execution_count": null,
      "outputs": []
    },
    {
      "cell_type": "markdown",
      "source": [
        "# 3. Work the problem by hand - worked example"
      ],
      "metadata": {
        "id": "6f4dt-ln37HF"
      }
    },
    {
      "cell_type": "markdown",
      "source": [
        "Pricipal loan amount = $20000\n",
        "Interest rate = 0.5\n",
        "The number of years = 5\n",
        "\n",
        "$20000*0.5*5 = $5000"
      ],
      "metadata": {
        "id": "RQ-us6qf4g5A"
      }
    },
    {
      "cell_type": "markdown",
      "source": [
        "# 4. Develop an Algorithm/Pseudocode"
      ],
      "metadata": {
        "id": "LoEHWS9p4Edn"
      }
    },
    {
      "cell_type": "markdown",
      "source": [
        "Get the input data.\n",
        "Calculate the interest rate.\n",
        "Display the interest rate."
      ],
      "metadata": {
        "id": "pBknQciS4KeR"
      }
    },
    {
      "cell_type": "markdown",
      "source": [
        "# 5. Convert Pseudocode to Python Code"
      ],
      "metadata": {
        "id": "dtlaNDkf4TZ0"
      }
    },
    {
      "cell_type": "code",
      "source": [
        "loan = 20000\n",
        "IR = 0.05\n",
        "years = 5\n",
        "sum = (loan*IR*years)\n",
        "print(sum)"
      ],
      "metadata": {
        "colab": {
          "base_uri": "https://localhost:8080/"
        },
        "id": "4rsQd509gWr0",
        "outputId": "abc7aa7d-051c-44dc-b393-2f4525ba2ef1"
      },
      "execution_count": null,
      "outputs": [
        {
          "output_type": "stream",
          "name": "stdout",
          "text": [
            "5000.0\n"
          ]
        }
      ]
    },
    {
      "cell_type": "markdown",
      "source": [
        "# 6. Test Solution with a variety of data"
      ],
      "metadata": {
        "id": "4gSCYBI74Yf-"
      }
    },
    {
      "cell_type": "code",
      "source": [
        "loan = int(input('Enter the pricipal loan amount: '))\n",
        "IR = float(input('Enter the interest rate: '))\n",
        "years = int(input('Enter the number of years: '))\n",
        "\n",
        "totalInterestPaid = loan * IR * years\n",
        "\n",
        "print ('The total interest paid is', totalInterestPaid)\n",
        "\n",
        "\n"
      ],
      "metadata": {
        "id": "s5tVf-P44dTj",
        "colab": {
          "base_uri": "https://localhost:8080/"
        },
        "outputId": "cfedb728-628f-457a-aab9-a1e67cf4b21d"
      },
      "execution_count": null,
      "outputs": [
        {
          "output_type": "stream",
          "name": "stdout",
          "text": [
            "Enter the pricipal loan amount: 20000\n",
            "Enter the interest rate: 0.05\n",
            "Enter the number of years: 5\n",
            "The total interest paid is 5000.0\n"
          ]
        }
      ]
    }
  ]
}