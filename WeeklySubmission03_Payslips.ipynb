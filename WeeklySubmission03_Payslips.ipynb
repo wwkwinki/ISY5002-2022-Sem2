{
  "nbformat": 4,
  "nbformat_minor": 0,
  "metadata": {
    "colab": {
      "name": "WeeklySubmission03_Payslips.ipynb",
      "provenance": [],
      "include_colab_link": true
    },
    "kernelspec": {
      "name": "python3",
      "display_name": "Python 3"
    },
    "language_info": {
      "name": "python"
    }
  },
  "cells": [
    {
      "cell_type": "markdown",
      "metadata": {
        "id": "view-in-github",
        "colab_type": "text"
      },
      "source": [
        "<a href=\"https://colab.research.google.com/github/wwkwinki/ISY5002-2022-Sem2/blob/main/WeeklySubmission03_Payslips.ipynb\" target=\"_parent\"><img src=\"https://colab.research.google.com/assets/colab-badge.svg\" alt=\"Open In Colab\"/></a>"
      ]
    },
    {
      "cell_type": "markdown",
      "source": [
        "# Task: Write a program to print out a payslip for hourly paid employees. <br>\n",
        "Modify the Gross pay activity to print out a payslip for hourly paid employees.<br>Refer to week 2's Gross Pay activity.\n",
        "\n",
        "[What has to be on a pay slip?](https://www.fairwork.gov.au/pay-and-wages/paying-wages/pay-slips#what-has-to-be-on-a-pay-slip)\n",
        "\n",
        "[Resident tax rates 2022–23](https://www.ato.gov.au/rates/individual-income-tax-rates/)"
      ],
      "metadata": {
        "id": "2jQsL4QPFfuG"
      }
    },
    {
      "cell_type": "code",
      "execution_count": 12,
      "metadata": {
        "id": "bKtEUVfhD1GO",
        "outputId": "6a342c15-58fd-449e-a4cc-36b343e638dd",
        "colab": {
          "base_uri": "https://localhost:8080/"
        }
      },
      "outputs": [
        {
          "output_type": "stream",
          "name": "stdout",
          "text": [
            "Enter date of payment: 12/8/2022\n",
            "Enter your Name: Winki\n",
            "Enter you pay period: July 2022\n",
            "Rate per hour: 30\n",
            "worked hour: 40\n",
            "12/8/2022\n",
            "Employee Name:  Winki\n",
            "Pay Period:  July 2022\n",
            "Rate per hour:  30\n",
            "Total working hours:  40\n",
            "Gross pay:  1200\n"
          ]
        }
      ],
      "source": [
        "date = input(\"Enter date of payment: \")\n",
        "name = input(\"Enter your Name: \")\n",
        "period = input(\"Enter you pay period: \")\n",
        "rate = int(input(\"Rate per hour: \"))\n",
        "workedhour = int(input(\"worked hour: \"))\n",
        "\n",
        "\n",
        "print(date)\n",
        "print (\"Employee Name: \", name)\n",
        "print (\"Pay Period: \", period)\n",
        "print (\"Rate per hour: \", rate)\n",
        "print (\"Total working hours: \", workedhour)\n",
        "\n",
        "grosspay = (rate * workedhour)\n",
        "print (\"Gross pay: \", grosspay)"
      ]
    },
    {
      "cell_type": "code",
      "source": [
        "print(\"Pay Slip\")\n",
        "print(\"Date of Payment: \", date)\n",
        "print (\"Employee Name: \", name)\n",
        "print (\"Pay Period: \", period)\n",
        "print (\"Rate per hour: \", rate)\n",
        "print (\"Total working hours: \", workedhour)\n",
        "\n",
        "grosspay = (rate * workedhour)\n",
        "print (\"Gross pay: \", grosspay)\n",
        "\n",
        "print(\"Yearly income is: \", grosspay * 12)\n",
        "\n",
        "income = int(grosspay)\n",
        "if income <= 18200:\n",
        "  print('No tax applied')\n",
        "elif income > 18200 and income <=45000:\n",
        "  tax_payable = (income - 18200) * 0.19\n",
        "elif income > 45000 and income <=120000:\n",
        "  tax_payable = ((income - 450000)*0.325) + 5092\n",
        "elif income > 120000 and income <=180000:\n",
        "  tax_payable = ((income - 120000) * 0.37) + 29467   \n",
        "elif income > 180000:\n",
        "  tax_payable = ((income - 180000) * 0.45) + 51667\n",
        "else: \n",
        "  tax_payable = ((income - 180000)* 0.45) + 51667  \n",
        "\n",
        "  print(\"The tax payable is\", tax_payable)\n"
      ],
      "metadata": {
        "id": "oqpmmsC8nuyC",
        "outputId": "c7cbb421-09a0-45d4-f01d-60e1e2f15d8f",
        "colab": {
          "base_uri": "https://localhost:8080/"
        }
      },
      "execution_count": 15,
      "outputs": [
        {
          "output_type": "stream",
          "name": "stdout",
          "text": [
            "Pay Slip\n",
            "Date of Payment:  12/8/2022\n",
            "Employee Name:  Winki\n",
            "Pay Period:  July 2022\n",
            "Rate per hour:  30\n",
            "Total working hours:  40\n",
            "Gross pay:  1200\n",
            "Yearly income is:  14400\n",
            "No tax applied\n"
          ]
        }
      ]
    }
  ]
}