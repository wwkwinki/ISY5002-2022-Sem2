{
  "nbformat": 4,
  "nbformat_minor": 0,
  "metadata": {
    "colab": {
      "name": "06_debugging.ipynb",
      "provenance": [],
      "collapsed_sections": [],
      "include_colab_link": true
    },
    "kernelspec": {
      "name": "python3",
      "display_name": "Python 3"
    },
    "language_info": {
      "name": "python"
    }
  },
  "cells": [
    {
      "cell_type": "markdown",
      "metadata": {
        "id": "view-in-github",
        "colab_type": "text"
      },
      "source": [
        "<a href=\"https://colab.research.google.com/github/wwkwinki/ISY5002-2022-Sem2/blob/main/06_debugging.ipynb\" target=\"_parent\"><img src=\"https://colab.research.google.com/assets/colab-badge.svg\" alt=\"Open In Colab\"/></a>"
      ]
    },
    {
      "cell_type": "markdown",
      "source": [
        "# Debugging\n",
        "\n",
        "When you first begin to program, you make a lot of mistakes, and your code doesn’t always work!\n",
        "\n",
        "When you're a skilled programmer, you make mistakes and your code doesn’t always work.\n",
        "\n",
        "**Everyone needs debugging skills.**\n",
        "\n",
        "Debugging is the process of figuring out what is going wrong with your code.There are many ways to debug. This notebook will talk about one specific way: print statement debugging. Print statement debugging is great for beginners because it doesn't require special tools. It's a great way to develop a sense of how to debug effectively."
      ],
      "metadata": {
        "id": "I_Mvaae0FEHh"
      }
    },
    {
      "cell_type": "markdown",
      "source": [
        "# How to Debug With Print Statements\n",
        "\n",
        "Debugging is not just running your code. It also requires reading your code.\n",
        "\n",
        "* Read your code, and\n",
        "* Read your error messages\n",
        "\n",
        "You should have a little bit of an idea of the general area of code where your bug is occurring.  This is often acheived by matching up the output with the code associated with it.\n",
        "\n",
        "You can narrow your search from there: Place print statements so you know \"where\" you are in the code or print the valuse of variables.\n",
        "\n",
        "#### Which Variables Should You Look at?\n",
        "\n",
        "Look at the ones that seem to be misbehaving.  Put a print statement before and after an update, if the value changing as expected?\n",
        "\n",
        "You can put  a print statement inside of a for Loop so that it prints out the value every time the loop goes through.  This can show you what the value is are and how they are changing.  \n",
        "\n",
        "#### Code Excuting as expected\n",
        "\n",
        "You can put a series of numbers throughout the code. Say print one at the beginning.  Then add print statement in various palces incrementing the number.  Then run the program and look at the output.  If you see the numbers “1” “2” “3” “4” and so on then the program is executing as expected. If a number is missing then you can investigate further to see why.\n",
        "\n",
        "#### Use Sparingly\n",
        "\n",
        "Too many print statements can very quickly lead to more confusion, especially within loops.So use your print statements sparingly!"
      ],
      "metadata": {
        "id": "NUsFNiaGKfUk"
      }
    },
    {
      "cell_type": "markdown",
      "source": [
        "We revisit out sort list of numbers into odd list and even list program."
      ],
      "metadata": {
        "id": "lDD7obMkF1aQ"
      }
    },
    {
      "cell_type": "code",
      "source": [
        "def odd_even_list(alist):\n",
        "  '''\n",
        "  sort a given list into\n",
        "  two lists - even list and odd list\n",
        "  odd_even_list([7,4,5,9,8,6])\n",
        "  returns ([4, 6, 8], [5, 7, 9])\n",
        "  '''\n",
        "\n",
        "  evenlist = []\n",
        "  oddlist = []\n",
        "\n",
        "  for i in range (0, len(alist)):\n",
        "    print(\"i \", i)\n",
        "    if alist[i] % 2 == 0:      \n",
        " \n",
        "      evenlist.append(alist[i])\n",
        "      evenlist.sort()\n",
        "      print('evenlist', evenlist)\n",
        "    else:\n",
        "      oddlist.append(alist[i])\n",
        "      oddlist.sort()\n",
        "\n",
        "  return evenlist, oddlist"
      ],
      "metadata": {
        "id": "4Th8BnP1Cxbt"
      },
      "execution_count": 13,
      "outputs": []
    },
    {
      "cell_type": "markdown",
      "source": [
        "Let us try a few examples"
      ],
      "metadata": {
        "id": "GIaqVlKlIYo2"
      }
    },
    {
      "cell_type": "code",
      "source": [
        "odd_even_list([7,4,5,9,8,6])"
      ],
      "metadata": {
        "id": "_LdGY1fdDNyJ",
        "outputId": "eb68cf13-7869-4791-a677-b86f42ed6b27",
        "colab": {
          "base_uri": "https://localhost:8080/",
          "height": 0
        }
      },
      "execution_count": 15,
      "outputs": [
        {
          "output_type": "stream",
          "name": "stdout",
          "text": [
            "i  0\n",
            "i  1\n",
            "evenlist [4]\n",
            "i  2\n",
            "i  3\n",
            "i  4\n",
            "evenlist [4, 8]\n",
            "i  5\n",
            "evenlist [4, 6, 8]\n"
          ]
        },
        {
          "output_type": "execute_result",
          "data": {
            "text/plain": [
              "([4, 6, 8], [5, 7, 9])"
            ]
          },
          "metadata": {},
          "execution_count": 15
        }
      ]
    },
    {
      "cell_type": "code",
      "source": [
        "odd_even_list([7,1,3,4,2,6,5])"
      ],
      "metadata": {
        "id": "kypEIY1uE3YR",
        "outputId": "6cdbb978-e1b0-4c59-d0fa-76b78394ef61",
        "colab": {
          "base_uri": "https://localhost:8080/",
          "height": 0
        }
      },
      "execution_count": 16,
      "outputs": [
        {
          "output_type": "stream",
          "name": "stdout",
          "text": [
            "i  0\n",
            "i  1\n",
            "i  2\n",
            "i  3\n",
            "evenlist [4]\n",
            "i  4\n",
            "evenlist [2, 4]\n",
            "i  5\n",
            "evenlist [2, 4, 6]\n",
            "i  6\n"
          ]
        },
        {
          "output_type": "execute_result",
          "data": {
            "text/plain": [
              "([2, 4, 6], [1, 3, 5, 7])"
            ]
          },
          "metadata": {},
          "execution_count": 16
        }
      ]
    },
    {
      "cell_type": "markdown",
      "source": [
        "This is an example of a runtime error.  The code is syntatically correct and runs, just the expected output is incorrect.\n",
        "\n",
        "It almost works, you may notice a pattern but let us use a print statement to try and trace the executation of the program.  \n",
        "\n",
        "There are lots of places you could put a `print` statement but in this example we will check after the list is updated."
      ],
      "metadata": {
        "id": "vc7m2XskIs4y"
      }
    },
    {
      "cell_type": "code",
      "source": [
        "def odd_even_list(alist):\n",
        "  '''\n",
        "  sort a given list into\n",
        "  two lists - even list and odd list\n",
        "  odd_even_list([7,4,5,9,8,6])\n",
        "  returns ([4, 6, 8], [5, 7, 9])\n",
        "  '''\n",
        "\n",
        "  evenlist = []\n",
        "  oddlist = []\n",
        "\n",
        "  for i in range (1, len(alist)-1):\n",
        "    if alist[i] % 2 == 0:      \n",
        "      evenlist.append(alist[i])\n",
        "      evenlist.sort()\n",
        "    else:\n",
        "      oddlist.append(alist[i])\n",
        "      oddlist.sort()\n",
        "\n",
        "  return evenlist, oddlist"
      ],
      "metadata": {
        "id": "umaiIrX1Iq3x"
      },
      "execution_count": null,
      "outputs": []
    },
    {
      "cell_type": "code",
      "source": [
        "odd_even_list([7,4,5,9,8,6])"
      ],
      "metadata": {
        "id": "zbT0OatGGihD"
      },
      "execution_count": null,
      "outputs": []
    },
    {
      "cell_type": "code",
      "source": [
        "odd_even_list([4,1,3,7,2,6,5])"
      ],
      "metadata": {
        "id": "PIpK3TCjGyaU"
      },
      "execution_count": null,
      "outputs": []
    },
    {
      "cell_type": "markdown",
      "source": [
        "Analyzing the output, we realize that the ....\n",
        "\n",
        "....  Sometimes you are sure of the fix, sometimes you have an educated guess and try a fix.\n"
      ],
      "metadata": {
        "id": "1oV7GzpmKasQ"
      }
    },
    {
      "cell_type": "code",
      "source": [
        "def odd_even_list(alist):\n",
        "  '''\n",
        "  sort a given list into\n",
        "  two lists - even list and odd list\n",
        "  odd_even_list([7,4,5,9,8,6])\n",
        "  returns ([4, 6, 8], [5, 7, 9])\n",
        "  '''\n",
        "\n",
        "  evenlist = []\n",
        "  oddlist = []\n",
        "\n",
        "  for i in range (1, len(alist)-1):\n",
        "    if alist[i] % 2 == 0:      \n",
        "      evenlist.append(alist[i])\n",
        "      evenlist.sort()\n",
        "    else:\n",
        "      oddlist.append(alist[i])\n",
        "      oddlist.sort()\n",
        "\n",
        "  return evenlist, oddlist\n"
      ],
      "metadata": {
        "id": "AQvRLZyVKY7r"
      },
      "execution_count": null,
      "outputs": []
    },
    {
      "cell_type": "code",
      "source": [
        "odd_even_list([7,4,5,9,8,6])"
      ],
      "metadata": {
        "id": "MIwiXjZFMsSF"
      },
      "execution_count": null,
      "outputs": []
    },
    {
      "cell_type": "code",
      "source": [
        "odd_even_lis([4,1,3,7,2,6,5])"
      ],
      "metadata": {
        "id": "6YnvMrNEdmZw"
      },
      "execution_count": null,
      "outputs": []
    },
    {
      "cell_type": "markdown",
      "source": [
        "Once you are happy it is working.  Remove or comment out the print() statement."
      ],
      "metadata": {
        "id": "142Msl3UMz08"
      }
    },
    {
      "cell_type": "code",
      "source": [
        "def odd_even_list(alist):\n",
        "  '''\n",
        "  sort a given list into\n",
        "  two lists - even list and odd list\n",
        "  odd_even_list([7,4,5,9,8,6])\n",
        "  returns ([4, 6, 8], [5, 7, 9])\n",
        "  '''\n",
        "\n",
        "  pass\n",
        "  "
      ],
      "metadata": {
        "id": "nXGowQG7MyGp"
      },
      "execution_count": null,
      "outputs": []
    },
    {
      "cell_type": "code",
      "source": [
        "odd_even_list([7,4,5,9,8,6])"
      ],
      "metadata": {
        "id": "eMNdpicmM9uF"
      },
      "execution_count": null,
      "outputs": []
    },
    {
      "cell_type": "code",
      "source": [
        "odd_even_list([4,1,3,7,2,6,5])"
      ],
      "metadata": {
        "id": "Vkt62QK6NBQ0"
      },
      "execution_count": null,
      "outputs": []
    },
    {
      "cell_type": "markdown",
      "source": [
        "# Debugging with pdb\n",
        "\n",
        "Python 3.7 has a built-in interctive debugger called **pdb**. It is possible to stop the execution of the code at any point by setting a breakpoint.  This will jump you into interactive the pdb command line.  From there you can then print values of variables, list lines of code, run one line of code at a time.  Taken directly from the [pdb documentation](https://docs.python.org/3/library/pdb.html), here are the important five commands.\n",
        "\n",
        "* l(ist) - Displays 11 lines around the current line\n",
        "* s(tep) - Execute the current line, stop at the first possible occasion.\n",
        "* n(ext) - Continue execution until the next line in the current function is reached or it returns.\n",
        "* b(reak) - Set a breakpoint (depending on the argument provided).\n",
        "* r(eturn) - Continue execution until the current function returns.\n",
        "\n",
        "## How to set a breakpoint() \n",
        "\n",
        "In Python 3.7 to set a breakpoint we put the following function at the location in the code where we want execution to stop:\n",
        "\n",
        "      breakpoint()\n",
        "\n",
        "For older verison of pytohn you will need to insert the following code at the location where you want to break into the debugger:\n",
        "\n",
        "    import pdb; pdb.set_trace()\n",
        "\n",
        "Let's look at the now familiar even_odd_list() for an earlier.  Normally you would execute the code and try some input.  Then match the output to the code and make a educated guess where you would put the breakpoint(). \n",
        "\n",
        "With *pdb* because you can step through one line at a time, you don't have to be as precise with the location of the breakpoint. So it is common to see a break point at the start of the misbehaving function.\n",
        "\n",
        "Where would be a a good locaiton to place a break point?  Place a breakpoint in the followcode and then explore some of the basic commands and view the values in some variables.  Once comfortable with the *pdb* commands, can you come to the same conclusions as before when using the `print()` statements?\n",
        "\n"
      ],
      "metadata": {
        "id": "HnTsRFt1u15F"
      }
    },
    {
      "cell_type": "code",
      "source": [
        "def odd_even_list(alist):\n",
        "  '''\n",
        "  sort a given list into\n",
        "  two lists - even list and odd list\n",
        "  odd_even_list([7,4,5,9,8,6])\n",
        "  returns ([4, 6, 8], [5, 7, 9])\n",
        "  '''\n",
        "\n",
        "  evenlist = []\n",
        "  oddlist = []\n",
        "\n",
        "  for i in range (0, len(alist)):\n",
        "      #breakpoint()\n",
        "    if alist[i] % 2 == 0:      \n",
        "      evenlist.append(alist[i])\n",
        "      evenlist.sort()\n",
        "    else:\n",
        "      oddlist.append(alist[i])\n",
        "      oddlist.sort()\n",
        "\n",
        "  return evenlist, oddlist"
      ],
      "metadata": {
        "id": "atC1N-aPKwuN"
      },
      "execution_count": 4,
      "outputs": []
    },
    {
      "cell_type": "code",
      "source": [
        "odd_even_list([7,4,5,9,8,6])"
      ],
      "metadata": {
        "id": "Ph-C3O-rLI-z",
        "outputId": "18aa02b5-9d07-4aa4-d583-69c86ab2f0ba",
        "colab": {
          "base_uri": "https://localhost:8080/"
        }
      },
      "execution_count": 5,
      "outputs": [
        {
          "output_type": "execute_result",
          "data": {
            "text/plain": [
              "([4, 6, 8], [5, 7, 9])"
            ]
          },
          "metadata": {},
          "execution_count": 5
        }
      ]
    },
    {
      "cell_type": "code",
      "source": [
        "odd_even_list([4,1,3,7,2,6,5])"
      ],
      "metadata": {
        "id": "Grg6nQ8eOriL"
      },
      "execution_count": null,
      "outputs": []
    }
  ]
}