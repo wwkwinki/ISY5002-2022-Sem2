{
  "nbformat": 4,
  "nbformat_minor": 0,
  "metadata": {
    "colab": {
      "name": "Sundae winner.ipynb",
      "provenance": [],
      "collapsed_sections": [],
      "authorship_tag": "ABX9TyNK+QdnoBHI7Y/e9iAWMJV0",
      "include_colab_link": true
    },
    "kernelspec": {
      "name": "python3",
      "display_name": "Python 3"
    },
    "language_info": {
      "name": "python"
    }
  },
  "cells": [
    {
      "cell_type": "markdown",
      "metadata": {
        "id": "view-in-github",
        "colab_type": "text"
      },
      "source": [
        "<a href=\"https://colab.research.google.com/github/wwkwinki/ISY5002-2022-Sem2/blob/main/Sundae_winner.ipynb\" target=\"_parent\"><img src=\"https://colab.research.google.com/assets/colab-badge.svg\" alt=\"Open In Colab\"/></a>"
      ]
    },
    {
      "cell_type": "code",
      "execution_count": 4,
      "metadata": {
        "id": "z50qh0fcpTSU"
      },
      "outputs": [],
      "source": [
        "customer = ['Jimmy', 'Kim', 'John','Stacie']"
      ]
    },
    {
      "cell_type": "code",
      "source": [
        "customer"
      ],
      "metadata": {
        "colab": {
          "base_uri": "https://localhost:8080/"
        },
        "id": "Uke_UVS48NaD",
        "outputId": "6951fe46-1f62-4a7e-84c2-2fbe32256b28"
      },
      "execution_count": 8,
      "outputs": [
        {
          "output_type": "execute_result",
          "data": {
            "text/plain": [
              "['Jimmy', 'Kim', 'John', 'Stacie']"
            ]
          },
          "metadata": {},
          "execution_count": 8
        }
      ]
    },
    {
      "cell_type": "code",
      "source": [
        "import random"
      ],
      "metadata": {
        "id": "yWJYZxHb8d5I"
      },
      "execution_count": 9,
      "outputs": []
    },
    {
      "cell_type": "code",
      "source": [
        "winner = random.choice(customer)"
      ],
      "metadata": {
        "id": "Y7Ab4xIZqPAQ"
      },
      "execution_count": 10,
      "outputs": []
    },
    {
      "cell_type": "code",
      "source": [
        "winner"
      ],
      "metadata": {
        "colab": {
          "base_uri": "https://localhost:8080/",
          "height": 35
        },
        "id": "o1119Zkk8s4h",
        "outputId": "7cbbb1bc-e856-4284-a3cc-250f7ad0b4cd"
      },
      "execution_count": 11,
      "outputs": [
        {
          "output_type": "execute_result",
          "data": {
            "text/plain": [
              "'Stacie'"
            ],
            "application/vnd.google.colaboratory.intrinsic+json": {
              "type": "string"
            }
          },
          "metadata": {},
          "execution_count": 11
        }
      ]
    },
    {
      "cell_type": "code",
      "source": [
        "flavor = 'vanilla'"
      ],
      "metadata": {
        "id": "6ppOwYQTqXG7"
      },
      "execution_count": 33,
      "outputs": []
    },
    {
      "cell_type": "code",
      "source": [
        "print('Congratulations '+ winner + ' you have won an ice cream sundae')"
      ],
      "metadata": {
        "id": "5shKSPEZqdu3",
        "colab": {
          "base_uri": "https://localhost:8080/"
        },
        "outputId": "9e30180c-c000-4172-be30-e08bcdc35997"
      },
      "execution_count": 14,
      "outputs": [
        {
          "output_type": "stream",
          "name": "stdout",
          "text": [
            "Congratulations Stacie you have won an ice cream sundae\n"
          ]
        }
      ]
    },
    {
      "cell_type": "code",
      "source": [
        "prompt = 'Would you like a cherry on top? '"
      ],
      "metadata": {
        "id": "hyqh0VgwqtGo"
      },
      "execution_count": 21,
      "outputs": []
    },
    {
      "cell_type": "code",
      "source": [
        "wants_cherry = input(prompt)"
      ],
      "metadata": {
        "id": "iBQwAu7Bq2Rz",
        "colab": {
          "base_uri": "https://localhost:8080/"
        },
        "outputId": "dfe731e1-e0c0-4624-dada-f34f65a958eb"
      },
      "execution_count": 23,
      "outputs": [
        {
          "name": "stdout",
          "output_type": "stream",
          "text": [
            "Would you like a cherry on top? yes\n"
          ]
        }
      ]
    },
    {
      "cell_type": "code",
      "source": [
        "order = flavor + ' sundae'"
      ],
      "metadata": {
        "id": "kctqP7ROrFLv"
      },
      "execution_count": 38,
      "outputs": []
    },
    {
      "cell_type": "code",
      "source": [
        "if (wants_cherry == 'yes'):\n",
        "  order = order + 'with a cherry on top'"
      ],
      "metadata": {
        "id": "Xrtfs0StrJmd"
      },
      "execution_count": 26,
      "outputs": []
    },
    {
      "cell_type": "code",
      "source": [
        "print('one ' + order + ' for ' + winner + ' coming right up...')"
      ],
      "metadata": {
        "id": "r-_8kWg6rZTT",
        "colab": {
          "base_uri": "https://localhost:8080/"
        },
        "outputId": "1b1663a3-7475-4ccb-ddf4-2bbb2d43f4fa"
      },
      "execution_count": 39,
      "outputs": [
        {
          "output_type": "stream",
          "name": "stdout",
          "text": [
            "one vanilla sundae for Stacie coming right up...\n"
          ]
        }
      ]
    }
  ]
}