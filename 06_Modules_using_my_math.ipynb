{
  "nbformat": 4,
  "nbformat_minor": 0,
  "metadata": {
    "colab": {
      "name": "06_Modules_using_my_math.ipynb",
      "provenance": [],
      "collapsed_sections": [],
      "include_colab_link": true
    },
    "kernelspec": {
      "name": "python3",
      "display_name": "Python 3"
    },
    "language_info": {
      "name": "python"
    }
  },
  "cells": [
    {
      "cell_type": "markdown",
      "metadata": {
        "id": "view-in-github",
        "colab_type": "text"
      },
      "source": [
        "<a href=\"https://colab.research.google.com/github/wwkwinki/ISY5002-2022-Sem2/blob/main/06_Modules_using_my_math.ipynb\" target=\"_parent\"><img src=\"https://colab.research.google.com/assets/colab-badge.svg\" alt=\"Open In Colab\"/></a>"
      ]
    },
    {
      "cell_type": "markdown",
      "source": [
        "# Test Module: my_math.ipynb\n",
        "\n",
        "In this notebook, write some code to test the functions in *my_math.ipynb* by importing the file as python module. *my_math.ipynb* has some basic arithmetic functions in it.\n",
        "\n",
        "We will try importing as a python script and as a notebook.\n",
        "\n",
        "## Task 0 - Import this notebook to GitHub\n",
        "Save the notebook to your local GitHub repository.\n",
        "\n",
        "## Task 1 - Import as a Python script\n",
        "To do this you will need to:\n",
        "* open my_math.ipynb from the Worksheets repository\n",
        "* download/save as my_math.py\n",
        "* from this notebook upload my_math.py.  This will put it in the same folder as this notebook.\n",
        "* Import the my_math module\n",
        "\n",
        "    import my_math\n",
        "* write some code to test the functions in my_math module"
      ],
      "metadata": {
        "id": "pM6Ipzg-fJzT"
      }
    },
    {
      "cell_type": "code",
      "execution_count": 14,
      "metadata": {
        "id": "vc2SBxd8fDyE",
        "colab": {
          "base_uri": "https://localhost:8080/"
        },
        "outputId": "5edc972d-da1a-4ac4-b074-05304cc8ded6"
      },
      "outputs": [
        {
          "output_type": "stream",
          "name": "stdout",
          "text": [
            "5\n",
            "6\n"
          ]
        }
      ],
      "source": [
        "import my_math\n",
        "\n",
        "print(my_math.add(2,3))\n",
        "\n",
        "result = my_math.multiply(2,3)\n",
        "\n",
        "print(result)"
      ]
    },
    {
      "cell_type": "code",
      "source": [
        "my_math.divide(2,0)"
      ],
      "metadata": {
        "colab": {
          "base_uri": "https://localhost:8080/"
        },
        "id": "jz3KXzWZFSyP",
        "outputId": "a0244303-2301-464b-de06-de7bdd0042a6"
      },
      "execution_count": 17,
      "outputs": [
        {
          "output_type": "execute_result",
          "data": {
            "text/plain": [
              "2.0"
            ]
          },
          "metadata": {},
          "execution_count": 17
        }
      ]
    },
    {
      "cell_type": "code",
      "source": [
        "import my_math\n",
        "help(my_math)"
      ],
      "metadata": {
        "id": "QOOQhfvIiOss",
        "colab": {
          "base_uri": "https://localhost:8080/"
        },
        "outputId": "01b01fd1-6bc7-4f9f-c930-e9bc6b13324a"
      },
      "execution_count": 6,
      "outputs": [
        {
          "output_type": "stream",
          "name": "stdout",
          "text": [
            "Help on module my_math:\n",
            "\n",
            "NAME\n",
            "    my_math\n",
            "\n",
            "FUNCTIONS\n",
            "    add(x, y)\n",
            "        Add two numbers\n",
            "    \n",
            "    divide(x, y)\n",
            "        Divide first by second number\n",
            "    \n",
            "    multiply(x, y)\n",
            "        Multiple two numbers\n",
            "    \n",
            "    subtract(x, y)\n",
            "        Subtract two numbers\n",
            "\n",
            "FILE\n",
            "    /content/my_math.py\n",
            "\n",
            "\n"
          ]
        }
      ]
    }
  ]
}