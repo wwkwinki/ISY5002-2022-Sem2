{
  "nbformat": 4,
  "nbformat_minor": 0,
  "metadata": {
    "colab": {
      "name": "04-Problem_Solving_CaseStudy.ipynb",
      "provenance": [],
      "collapsed_sections": [],
      "include_colab_link": true
    },
    "kernelspec": {
      "name": "python3",
      "display_name": "Python 3"
    },
    "language_info": {
      "name": "python"
    }
  },
  "cells": [
    {
      "cell_type": "markdown",
      "metadata": {
        "id": "view-in-github",
        "colab_type": "text"
      },
      "source": [
        "<a href=\"https://colab.research.google.com/github/wwkwinki/ISY5002-2022-Sem2/blob/main/04_Problem_Solving_CaseStudy.ipynb\" target=\"_parent\"><img src=\"https://colab.research.google.com/assets/colab-badge.svg\" alt=\"Open In Colab\"/></a>"
      ]
    },
    {
      "cell_type": "markdown",
      "metadata": {
        "id": "e5e5c3c7-ab2c-4122-8fd6-a4ef30a2f6e9"
      },
      "source": [
        "# Problem Solving Methodology\n",
        "\n",
        "> “The biggest mistake I see new programmers make is focusing on learning syntax instead of learning how to solve problems.” \n",
        ">\n",
        "> — V. Anton Spraul, Think Like a Programmer: An Introduction to Creative Problem solving\n",
        "\n",
        "Problem solving is process the helps people identify and solve problem sin their lives.  It is important to have a consistent approach to solving problems, a aprroach that is general enough to work for any problem.  The problem solving technique that we present here can be tailored to solve problems in other areas. However is todes assume tht we are using a computer to help solve the problems.\n",
        "\n",
        "The process of problem solving we will use can be broken down into 5 key steps:\n",
        "1. State the problem clearly\n",
        "2. Describe the input and output information\n",
        "3. Work the problem by hand\n",
        "4. Develop an algorithm (and convert to python) \n",
        "5. Test solution with a variety of data\n",
        "\n"
      ]
    },
    {
      "cell_type": "markdown",
      "metadata": {
        "id": "6991276b-7063-49fd-b3dd-4d676ae140e6"
      },
      "source": [
        "We now discuss each of these steps using data collected from a company's monthly sales data.  The sales person key-in a set of sales figures of a store for each month for 12 months.  We want to compute the average sales and also want to plot the monthly figures.\n",
        "\n",
        "# 1. Problem Statement\n",
        "\n",
        "The first step is to state the problem clearly.  It is extremley important to give clear, concise problem statement to avoid any misunderstandings.  For this example, the problem statement is as follows:\n",
        "\n",
        ">  Computer the average of a set of monthly sales figures.  Then plot the month and sales figures.\n",
        "\n",
        "# 2. Input/Output Description\n",
        "\n",
        "The second step is to describe carefully the information that is given to solve the problem and then identify the values to be computed.  These items represent the input and output for the problem and collectively can be called inputoutput or I/O.  At this point we have not defined any processing steps so we will represnet the program as a box.  The **I/O diagram** for this example is as follows:\n",
        "\n",
        "```\n",
        "            +-----------+\n",
        "            |           |\n",
        " INPUT ---> | Algorithm | ---> OUTPUT\n",
        "            |           |\n",
        "            +-----------+\n",
        "```\n",
        "\n",
        "\n",
        "Another way to look at this is the problem is divided into three speerate sections:\n",
        "* Input -  a list of source data to the problem\n",
        "* Output - a list of output required\n",
        "* Processing - a list of actions needed to produce the outputs\n",
        "\n",
        "At this step we only know the Input and outputs, but the three parts can be represented as a table:\n",
        "\n",
        "| Input         | Processing | Output        |\n",
        "|---------------|------------|---------------|\n",
        "| monthly sales |            | average sales |\n",
        "|               |            |               |\n",
        "| months        |            | plot of sales |\n",
        "|               |            | and months    |\n",
        "|               |            |               |\n"
      ]
    },
    {
      "cell_type": "markdown",
      "metadata": {
        "id": "45c4a12d-f19c-42f9-a79b-bd8c53ffd5f6"
      },
      "source": [
        "# 3. Work the Problem By Hand\n",
        "\n",
        "The third step is to work the problem by hand with a claculator using a simple set of data.  This is a very important step and should not be skipped.  Even for simple problem.  If you cannot take a simple set of numbers and comput the output then your not ready to move on to the next step.\n",
        "\n",
        "Assume we have the following data for the first quarter:\n",
        "\n",
        "| sales | month|\n",
        "|-------:|------|\n",
        "|122    | Jan  |\n",
        "|78    | Feb  |\n",
        "| 100    | Mar  |\n",
        "\n",
        "Bay hand we computer the average (120 + 100 + 80) / 3, or and average of $100 per month."
      ]
    },
    {
      "cell_type": "markdown",
      "metadata": {
        "id": "baddbc9c-fd29-4a46-81d6-c6112a114bb0"
      },
      "source": [
        "# 4. Devlop an Algorithm\n",
        "\n",
        "Here is our pseduocode:\n",
        "\n",
        "    Get the data\n",
        "    Calculate the average\n",
        "    plot the results"
      ]
    },
    {
      "cell_type": "code",
      "execution_count": 1,
      "metadata": {
        "id": "94c664da-768b-40d7-8660-2702d4f319bb",
        "colab": {
          "base_uri": "https://localhost:8080/",
          "height": 300
        },
        "outputId": "d9bde72a-8a7c-4576-f01f-537fc5f663de"
      },
      "outputs": [
        {
          "output_type": "stream",
          "name": "stdout",
          "text": [
            "100.0\n"
          ]
        },
        {
          "output_type": "execute_result",
          "data": {
            "text/plain": [
              "[<matplotlib.lines.Line2D at 0x7f594e529610>]"
            ]
          },
          "metadata": {},
          "execution_count": 1
        },
        {
          "output_type": "display_data",
          "data": {
            "text/plain": [
              "<Figure size 432x288 with 1 Axes>"
            ],
            "image/png": "[encoded data removed]"
          },
          "metadata": {
            "needs_background": "light"
          }
        }
      ],
      "source": [
        "# Compute the average sales per month and plot the sales data\n",
        "\n",
        "# Get the data\n",
        "sales = [122, 78, 100]\n",
        "months = ['Jan', 'Feb', 'Mar']\n",
        "\n",
        "\n",
        "# Calculate the average\n",
        "total_sales = sum(sales)\n",
        "num_sales = len(sales)\n",
        "average_sales = total_sales / num_sales\n",
        "print(average_sales)\n",
        "\n",
        "\n",
        "# plot the results\n",
        "from matplotlib import pyplot as plt\n",
        "from matplotlib.pyplot as plt\n",
        "plt.plot(months, sales)\n"
      ]
    },
    {
      "cell_type": "markdown",
      "metadata": {
        "id": "213537f2-47b0-42cf-80f7-43b672c07906"
      },
      "source": [
        "# 5. Generalise and Test Solution with a variety of data\n",
        "\n",
        "The final step in our problem solving process is testing the solution.  we should first test with out hand example because we have already computed the solution.\n",
        "\n",
        "If you look above we can see the average is 100, and we can see the plot.  Because this matches the one from the hand example, we now replace the data with our real sales data."
      ]
    },
    {
      "cell_type": "code",
      "execution_count": null,
      "metadata": {
        "id": "9174d649-9425-49fb-a324-4b033a2e5885"
      },
      "outputs": [],
      "source": [
        "# Compute the average sales per month and plot the sales data\n",
        "\n",
        "months = ['Jan', 'Feb', 'Mar', 'Apr', 'May', 'June']\n",
        "\n",
        "# Get the sales data for each month from sales staff\n",
        "\n",
        "\n",
        "\n",
        "# Calculate the average\n",
        "\n",
        "\n",
        "\n",
        "\n",
        "# plot the results\n"
      ]
    },
    {
      "cell_type": "code",
      "execution_count": null,
      "metadata": {
        "id": "h7FM4GDZPofA"
      },
      "outputs": [],
      "source": [
        ""
      ]
    }
  ]
}