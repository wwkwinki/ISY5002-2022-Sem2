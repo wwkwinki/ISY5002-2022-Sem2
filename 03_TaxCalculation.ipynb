{
  "nbformat": 4,
  "nbformat_minor": 0,
  "metadata": {
    "colab": {
      "name": "03_TaxCalculation.ipynb",
      "provenance": [],
      "collapsed_sections": [],
      "include_colab_link": true
    },
    "kernelspec": {
      "name": "python3",
      "display_name": "Python 3"
    },
    "language_info": {
      "name": "python"
    }
  },
  "cells": [
    {
      "cell_type": "markdown",
      "metadata": {
        "id": "view-in-github",
        "colab_type": "text"
      },
      "source": [
        "<a href=\"https://colab.research.google.com/github/wwkwinki/ISY5002-2022-Sem2/blob/main/03_TaxCalculation.ipynb\" target=\"_parent\"><img src=\"https://colab.research.google.com/assets/colab-badge.svg\" alt=\"Open In Colab\"/></a>"
      ]
    },
    {
      "cell_type": "markdown",
      "metadata": {
        "id": "bVMwNyExqHgH"
      },
      "source": [
        "# Tax Calculation\n",
        "\n",
        "Write a program the prompts the user for their income and calculates the \n",
        "tax payable based on the Australian Tax Office [Resident tax rates 2021–22\n",
        "Taxable income](https://www.ato.gov.au/rates/individual-income-tax-rates/)\n",
        "\n",
        "Income            | Tax on this income \n",
        "------------------|----------------------\n",
        "0 – \\$18,200       | Nil\n",
        "\\$18,201 – \\$45,000 | 19 cents for each \\$1 over \\$18,200\n",
        "\\$45,001 – \\$120,000 | \\$5,092 plus 32.5 cents for each \\$1 over \\$45,000\n",
        "\\$120,001 – \\$180,000 |  \\$29,467 plus 37 cents for each \\$1 over \\$120,000\n",
        "\\$180,001 and over | \\$51,667 plus 45 cents for each \\$1 over \\$180,000\n",
        "\n",
        "## Task 0 - Import notebook to GitHub\n",
        "\n",
        "First, import the notebook into Colab and save an initial copy to GitHub."
      ]
    },
    {
      "cell_type": "markdown",
      "source": [
        "# Task 1: Analyse the requirement and Design a solution\n",
        "\n",
        "Following the 6-steps problem solving process, when you analyse the requiremnts and design the solution, you will end up with an algorithm/pseudocode \n",
        "\n",
        "1. State the problem clearly\n",
        "2. Describe the input and output information\n",
        "3. Work the problem by hand\n",
        "4. Develop an algorithm / pseudocode\n",
        "\n",
        "\n",
        "\n",
        "\n"
      ],
      "metadata": {
        "id": "HgnNYcBrEOKa"
      }
    },
    {
      "cell_type": "markdown",
      "source": [
        "INPUT: Get income/ salary from the user\n",
        "\n",
        "1. Get emplyee income from user\n",
        "2. Calculate the tax payable\n",
        "<br>\n",
        "\n",
        "<br>\n",
        "Processing:<br>\n",
        "if income is less than 18200, then no tax applied<br>\n",
        "if income is between 18201 and 45000 then (income - 18200)*0.19<br>\n",
        "if income is between 45001 and 120000 then (income - 45000)*0.325 + 5092<br>\n",
        "if income is between 120001 and 180000 then ((income - 120000)*0.37) + 29467<br>\n",
        "if income is between 180001 and over then ((income-180000)*0.45) + 51667<br>\n",
        "<br>\n",
        "\n",
        "<br>\n",
        "if income = 18000 --> tax = 0<br>\n",
        "if income is 19000 --> 150.0<br>\n",
        "if income is 50000 --> 6717<br>\n",
        "<br>\n",
        "OUTPUT: Output tax payable"
      ],
      "metadata": {
        "id": "OZijiHhdHSxd"
      }
    },
    {
      "cell_type": "code",
      "execution_count": null,
      "metadata": {
        "id": "ZeyJ4l2iDOSo",
        "colab": {
          "base_uri": "https://localhost:8080/"
        },
        "outputId": "b99a6a3b-935e-43f7-8c99-c4321406319c"
      },
      "outputs": [
        {
          "output_type": "stream",
          "name": "stdout",
          "text": [
            "What is your income for the year: 20000\n",
            "The income is 20000\n",
            "The tax payable is 342.0\n"
          ]
        }
      ],
      "source": [
        "from typing_extensions import IntVar\n",
        "income = int(input(\"What is your income for the year: \"))\n",
        "\n",
        "print (\"The income is\", income)\n",
        "\n",
        "#prompt user for input and then convert the input typed by the int data type, because the input typed by user always comes in as string, so we need to convert the input from user to integer if we want to perform some numic computation on it.\n",
        "if income <= 18200:\n",
        "  tax_payable = 0\n",
        "  #print(\"No tax applied\")\n",
        "\n",
        "elif income > 18200 and income <=45000:\n",
        "  tax_payable = (income - 18200) * 0.19\n",
        "  #print (\"The tax payable is\", tax_payable)\n",
        "\n",
        "elif income > 45000 and income <=120000:\n",
        "  tax_payable = ((income - 450000)*0.325) + 5092\n",
        "  \n",
        "\n",
        "elif income > 120000 and income <=180000:\n",
        "  tax_payable = ((income - 120000) * 0.37) + 29467   \n",
        " \n",
        "\n",
        "#elif income > 180000:\n",
        "#   tax_payable = ((income - 180000) * 0.45) + 51667\n",
        "\n",
        "else: \n",
        "  tax_payable = ((income - 180000)* 0.45) + 51667  \n",
        "\n",
        "print(\"The tax payable is\", tax_payable)\n",
        "\n",
        "\n",
        "\n"
      ]
    },
    {
      "cell_type": "markdown",
      "source": [
        "# Task 2: Step 5 - Convert the pseudocode to Python Code"
      ],
      "metadata": {
        "id": "Gqexk_N7F0mb"
      }
    },
    {
      "cell_type": "code",
      "source": [
        ""
      ],
      "metadata": {
        "id": "kuwq-dEPF6Xi"
      },
      "execution_count": null,
      "outputs": []
    },
    {
      "cell_type": "code",
      "source": [
        ""
      ],
      "metadata": {
        "id": "scGeO2kfHRgd"
      },
      "execution_count": null,
      "outputs": []
    },
    {
      "cell_type": "markdown",
      "source": [
        "# Task 3: Step 6 - Test solution with a variety of data"
      ],
      "metadata": {
        "id": "tSe9XLLuF632"
      }
    },
    {
      "cell_type": "code",
      "source": [
        ""
      ],
      "metadata": {
        "id": "Fte4zuiXHRQA"
      },
      "execution_count": null,
      "outputs": []
    },
    {
      "cell_type": "code",
      "source": [
        ""
      ],
      "metadata": {
        "id": "3SOY4Z1RHQ-R"
      },
      "execution_count": null,
      "outputs": []
    },
    {
      "cell_type": "markdown",
      "source": [
        "# Task 4: Homework submission\n",
        "\n",
        "Write a program to print out a payslip for hourly paid employees. <br>\n",
        "Refer to last week's Gross Pay work.\n",
        "\n",
        "[What has to be on a pay slip?](https://www.fairwork.gov.au/pay-and-wages/paying-wages/pay-slips#what-has-to-be-on-a-pay-slip)\n",
        "\n",
        "[Resident tax rates 2022–23](https://www.ato.gov.au/rates/individual-income-tax-rates/)"
      ],
      "metadata": {
        "id": "FGccPDhDGHgF"
      }
    },
    {
      "cell_type": "code",
      "source": [
        ""
      ],
      "metadata": {
        "id": "kvRrkiXMHLfQ"
      },
      "execution_count": null,
      "outputs": []
    }
  ]
}