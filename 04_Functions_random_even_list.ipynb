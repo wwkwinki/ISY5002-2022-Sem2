{
  "nbformat": 4,
  "nbformat_minor": 0,
  "metadata": {
    "colab": {
      "name": "04_Functions_random_even_list.ipynb",
      "provenance": [],
      "collapsed_sections": [],
      "include_colab_link": true
    },
    "kernelspec": {
      "name": "python3",
      "display_name": "Python 3"
    },
    "language_info": {
      "name": "python"
    }
  },
  "cells": [
    {
      "cell_type": "markdown",
      "metadata": {
        "id": "view-in-github",
        "colab_type": "text"
      },
      "source": [
        "<a href=\"https://colab.research.google.com/github/wwkwinki/ISY5002-2022-Sem2/blob/main/04_Functions_random_even_list.ipynb\" target=\"_parent\"><img src=\"https://colab.research.google.com/assets/colab-badge.svg\" alt=\"Open In Colab\"/></a>"
      ]
    },
    {
      "cell_type": "markdown",
      "source": [
        "# Task 1: Generate a list of *ten (10)* random *even* numbers using `while` loop"
      ],
      "metadata": {
        "id": "yoglYJWb3G5p"
      }
    },
    {
      "cell_type": "code",
      "source": [
        " \"\"\"\n",
        " This is a multi-line comments\n",
        " Generates a list of even numbers\n",
        " num -- the number of elements to be generated\n",
        " begin, end -- even numbers generated between specified begin and end range\n",
        " \"\"\"\n",
        "\n",
        "# import random module\n",
        " import random\n",
        "\n",
        " evenlist = []\n",
        " num = 11\n",
        " begin = 10\n",
        " end = 20\n",
        "\n",
        " counter = 1\n",
        " while (counter <= 15):\n",
        " #print(\"Counter is \", counter)\n",
        "\n",
        "# generate random number \n",
        "  randNum = random.randrange(begin, end) \n",
        "#print(randNum, \" is random number\")\n",
        "\n",
        "# check if it it even number, if yes, add to list\n",
        " if randNum % 2 == 0:\n",
        "  evenlist.append(randNum)\n",
        "  counter = counter + 1\n",
        "#print(\"Counter after increment \", counter)  \n",
        "\n",
        "# display the even list\n",
        "print(evenlist)\n"
      ],
      "metadata": {
        "id": "XzaS3MJ2AG6U",
        "colab": {
          "base_uri": "https://localhost:8080/",
          "height": 356
        },
        "outputId": "8dc1c214-6bb6-434e-f0da-187cea0d0b34"
      },
      "execution_count": 36,
      "outputs": [
        {
          "output_type": "error",
          "ename": "KeyboardInterrupt",
          "evalue": "ignored",
          "traceback": [
            "\u001b[0;31m---------------------------------------------------------------------------\u001b[0m",
            "\u001b[0;31mKeyboardInterrupt\u001b[0m                         Traceback (most recent call last)",
            "\u001b[0;32m<ipython-input-36-376d7305cbc2>\u001b[0m in \u001b[0;36m<module>\u001b[0;34m()\u001b[0m\n\u001b[1;32m     19\u001b[0m \u001b[0;34m\u001b[0m\u001b[0m\n\u001b[1;32m     20\u001b[0m \u001b[0;31m# generate random number\u001b[0m\u001b[0;34m\u001b[0m\u001b[0;34m\u001b[0m\u001b[0;34m\u001b[0m\u001b[0m\n\u001b[0;32m---> 21\u001b[0;31m  \u001b[0mrandNum\u001b[0m \u001b[0;34m=\u001b[0m \u001b[0mrandom\u001b[0m\u001b[0;34m.\u001b[0m\u001b[0mrandrange\u001b[0m\u001b[0;34m(\u001b[0m\u001b[0mbegin\u001b[0m\u001b[0;34m,\u001b[0m \u001b[0mend\u001b[0m\u001b[0;34m)\u001b[0m\u001b[0;34m\u001b[0m\u001b[0;34m\u001b[0m\u001b[0m\n\u001b[0m\u001b[1;32m     22\u001b[0m \u001b[0;31m#print(randNum, \" is random number\")\u001b[0m\u001b[0;34m\u001b[0m\u001b[0;34m\u001b[0m\u001b[0;34m\u001b[0m\u001b[0m\n\u001b[1;32m     23\u001b[0m \u001b[0;34m\u001b[0m\u001b[0m\n",
            "\u001b[0;32m/usr/lib/python3.7/random.py\u001b[0m in \u001b[0;36mrandrange\u001b[0;34m(self, start, stop, step, _int)\u001b[0m\n\u001b[1;32m    183\u001b[0m         \u001b[0;31m# common case while still doing adequate error checking.\u001b[0m\u001b[0;34m\u001b[0m\u001b[0;34m\u001b[0m\u001b[0;34m\u001b[0m\u001b[0m\n\u001b[1;32m    184\u001b[0m         \u001b[0mistart\u001b[0m \u001b[0;34m=\u001b[0m \u001b[0m_int\u001b[0m\u001b[0;34m(\u001b[0m\u001b[0mstart\u001b[0m\u001b[0;34m)\u001b[0m\u001b[0;34m\u001b[0m\u001b[0;34m\u001b[0m\u001b[0m\n\u001b[0;32m--> 185\u001b[0;31m         \u001b[0;32mif\u001b[0m \u001b[0mistart\u001b[0m \u001b[0;34m!=\u001b[0m \u001b[0mstart\u001b[0m\u001b[0;34m:\u001b[0m\u001b[0;34m\u001b[0m\u001b[0;34m\u001b[0m\u001b[0m\n\u001b[0m\u001b[1;32m    186\u001b[0m             \u001b[0;32mraise\u001b[0m \u001b[0mValueError\u001b[0m\u001b[0;34m(\u001b[0m\u001b[0;34m\"non-integer arg 1 for randrange()\"\u001b[0m\u001b[0;34m)\u001b[0m\u001b[0;34m\u001b[0m\u001b[0;34m\u001b[0m\u001b[0m\n\u001b[1;32m    187\u001b[0m         \u001b[0;32mif\u001b[0m \u001b[0mstop\u001b[0m \u001b[0;32mis\u001b[0m \u001b[0;32mNone\u001b[0m\u001b[0;34m:\u001b[0m\u001b[0;34m\u001b[0m\u001b[0;34m\u001b[0m\u001b[0m\n",
            "\u001b[0;31mKeyboardInterrupt\u001b[0m: "
          ]
        }
      ]
    },
    {
      "cell_type": "markdown",
      "source": [
        "### Try with different values"
      ],
      "metadata": {
        "id": "6xYzRb3CClsX"
      }
    },
    {
      "cell_type": "code",
      "source": [
        ""
      ],
      "metadata": {
        "id": "8l_PM0vvC3CW"
      },
      "execution_count": null,
      "outputs": []
    },
    {
      "cell_type": "markdown",
      "source": [
        "# Task 2: Generalise\n",
        "\n",
        "### Make what we changed as inputs (parameters) to a function"
      ],
      "metadata": {
        "id": "mqAewt8WC3cX"
      }
    },
    {
      "cell_type": "code",
      "source": [
        "def generate_even_list(num, begin, end):\n",
        " \"\"\"\n",
        " This is a multi-line comments\n",
        " Generates a list of even numbers \n",
        " num -- the number of elements to be generated\n",
        " begin, end -- even numbers generated between specified begin and end range\n",
        " \"\"\"\n",
        "\n",
        "# import random module\n",
        " import random\n",
        "\n",
        " evenlist = []\n",
        " num = 11\n",
        " begin = 10\n",
        " end = 20\n",
        "\n",
        " counter = 1\n",
        " while (counter <= 15):\n",
        " #print(\"Counter is \", counter)\n",
        "\n",
        "# generate random number \n",
        "  randNum = random.randrange(begin, end) \n",
        "#print(randNum, \" is random number\")\n",
        "\n",
        "# check if it it even number, if yes, add to list\n",
        " if randNum % 2 == 0:  \n",
        "  evenlist.append(randNum)\n",
        "  counter = counter + 1\n",
        "#print(\"Counter after increment \", counter)  \n",
        "\n",
        "# display the even list\n",
        " print(evenlist)"
      ],
      "metadata": {
        "id": "f3gFrgLoBfgF"
      },
      "execution_count": 38,
      "outputs": []
    },
    {
      "cell_type": "code",
      "source": [
        "generate_even_list"
      ],
      "metadata": {
        "id": "vwxlULQXCdRT"
      },
      "execution_count": null,
      "outputs": []
    },
    {
      "cell_type": "code",
      "source": [
        "generate_even_list(5, 100, 150)"
      ],
      "metadata": {
        "id": "AcQ7eI3vBeQg",
        "outputId": "9e722422-5957-4645-9be5-938180996378",
        "colab": {
          "base_uri": "https://localhost:8080/",
          "height": 165
        }
      },
      "execution_count": 37,
      "outputs": [
        {
          "output_type": "error",
          "ename": "TypeError",
          "evalue": "ignored",
          "traceback": [
            "\u001b[0;31m---------------------------------------------------------------------------\u001b[0m",
            "\u001b[0;31mTypeError\u001b[0m                                 Traceback (most recent call last)",
            "\u001b[0;32m<ipython-input-37-697243c98676>\u001b[0m in \u001b[0;36m<module>\u001b[0;34m()\u001b[0m\n\u001b[0;32m----> 1\u001b[0;31m \u001b[0mgenerate_even_list\u001b[0m\u001b[0;34m(\u001b[0m\u001b[0;36m5\u001b[0m\u001b[0;34m,\u001b[0m \u001b[0;36m100\u001b[0m\u001b[0;34m,\u001b[0m \u001b[0;36m150\u001b[0m\u001b[0;34m)\u001b[0m\u001b[0;34m\u001b[0m\u001b[0;34m\u001b[0m\u001b[0m\n\u001b[0m",
            "\u001b[0;31mTypeError\u001b[0m: generate_even_list() takes 0 positional arguments but 3 were given"
          ]
        }
      ]
    },
    {
      "cell_type": "markdown",
      "source": [
        "# Docstrings\n",
        "\n",
        "A docstring is a string literal that occurs as the first statement in a function, module, class, or method definition. \n",
        "\n",
        "Docstring encased in triple `\"\"\"` quotes.\n",
        "\n",
        "Docstrings are used to describe a function. \n",
        " - what a function does, \n",
        " - the number of arguments it takes\n",
        " - the type of object it returns, etc\n",
        "\n",
        "https://peps.python.org/pep-0257/#what-is-a-docstring"
      ],
      "metadata": {
        "id": "-vluWzf0aJDF"
      }
    },
    {
      "cell_type": "code",
      "source": [
        ""
      ],
      "metadata": {
        "id": "oCq3n9_5Cawu"
      },
      "execution_count": null,
      "outputs": []
    },
    {
      "cell_type": "markdown",
      "source": [
        "# Task 3 (Optional): Write a function that takes a list as an argument and generate two lists, even list and odd list.\n",
        "\n",
        "### *Try with `for` loop*"
      ],
      "metadata": {
        "id": "8Tx-b-9EHOpH"
      }
    },
    {
      "cell_type": "code",
      "source": [
        ""
      ],
      "metadata": {
        "id": "lvQDKMHNHPxe"
      },
      "execution_count": null,
      "outputs": []
    }
  ]
}