{
  "nbformat": 4,
  "nbformat_minor": 0,
  "metadata": {
    "colab": {
      "name": "06_testing_my_math.divide().ipynb",
      "provenance": [],
      "include_colab_link": true
    },
    "kernelspec": {
      "name": "python3",
      "display_name": "Python 3"
    },
    "language_info": {
      "name": "python"
    }
  },
  "cells": [
    {
      "cell_type": "markdown",
      "metadata": {
        "id": "view-in-github",
        "colab_type": "text"
      },
      "source": [
        "<a href=\"https://colab.research.google.com/github/wwkwinki/ISY5002-2022-Sem2/blob/main/Weekly%20Submission_06_testing_my_math_divide().ipynb\" target=\"_parent\"><img src=\"https://colab.research.google.com/assets/colab-badge.svg\" alt=\"Open In Colab\"/></a>"
      ]
    },
    {
      "cell_type": "markdown",
      "source": [
        "## Testing  my_math.divide()\n",
        "\n",
        "What is your preferred testing strategy? Do you like using the assert statement or prefer doctest?  \n",
        "\n",
        "Using your preferred testing strategy, develop a test table and test the following funciton.  Where required update the function so all test behave as expected.\n",
        "\n",
        "\n",
        "## Function to test"
      ],
      "metadata": {
        "id": "LIfoDVzKX7uK"
      }
    },
    {
      "cell_type": "code",
      "source": [
        "def divide(x, y):\n",
        "    '''Divide first by second number'''\n",
        "    return x / y"
      ],
      "metadata": {
        "id": "YH9gDoOYvKwg"
      },
      "execution_count": 1,
      "outputs": []
    },
    {
      "cell_type": "markdown",
      "source": [
        "## Test Table\n",
        "\n",
        "List you test cases here."
      ],
      "metadata": {
        "id": "JYSZ-53nLF6n"
      }
    },
    {
      "cell_type": "code",
      "source": [
        "import doctest\n",
        "\n",
        "def divide(x, y):\n",
        "    '''Divide first by second number\n",
        "    >>> divide(0,0)\n",
        "    0\n",
        "    >>> divide(6,3)\n",
        "    2\n",
        "    >>> divide(-6,-3)\n",
        "    2\n",
        "    >>> divide(6.6,3.3)\n",
        "    2\n",
        "    >>> divide ('0',0)\n",
        "    'Not a Number'\n",
        "    '''\n",
        "    if isNumber(x) and isNumber(y):\n",
        "      return x / y\n",
        "\n",
        "doctest.testmod()\n"
      ],
      "metadata": {
        "id": "DMTITEmbLE_Z",
        "outputId": "534a19bf-80c5-4625-fb77-45426211a149",
        "colab": {
          "base_uri": "https://localhost:8080/"
        }
      },
      "execution_count": 7,
      "outputs": [
        {
          "output_type": "stream",
          "name": "stdout",
          "text": [
            "**********************************************************************\n",
            "File \"__main__\", line 5, in __main__.divide\n",
            "Failed example:\n",
            "    divide(0,0)\n",
            "Exception raised:\n",
            "    Traceback (most recent call last):\n",
            "      File \"/usr/lib/python3.7/doctest.py\", line 1337, in __run\n",
            "        compileflags, 1), test.globs)\n",
            "      File \"<doctest __main__.divide[0]>\", line 1, in <module>\n",
            "        divide(0,0)\n",
            "      File \"<ipython-input-7-a65596dd7640>\", line 16, in divide\n",
            "        if isNumber(x) and isNumber(y):\n",
            "    NameError: name 'isNumber' is not defined\n",
            "**********************************************************************\n",
            "File \"__main__\", line 7, in __main__.divide\n",
            "Failed example:\n",
            "    divide(6,3)\n",
            "Exception raised:\n",
            "    Traceback (most recent call last):\n",
            "      File \"/usr/lib/python3.7/doctest.py\", line 1337, in __run\n",
            "        compileflags, 1), test.globs)\n",
            "      File \"<doctest __main__.divide[1]>\", line 1, in <module>\n",
            "        divide(6,3)\n",
            "      File \"<ipython-input-7-a65596dd7640>\", line 16, in divide\n",
            "        if isNumber(x) and isNumber(y):\n",
            "    NameError: name 'isNumber' is not defined\n",
            "**********************************************************************\n",
            "File \"__main__\", line 9, in __main__.divide\n",
            "Failed example:\n",
            "    divide(-6,-3)\n",
            "Exception raised:\n",
            "    Traceback (most recent call last):\n",
            "      File \"/usr/lib/python3.7/doctest.py\", line 1337, in __run\n",
            "        compileflags, 1), test.globs)\n",
            "      File \"<doctest __main__.divide[2]>\", line 1, in <module>\n",
            "        divide(-6,-3)\n",
            "      File \"<ipython-input-7-a65596dd7640>\", line 16, in divide\n",
            "        if isNumber(x) and isNumber(y):\n",
            "    NameError: name 'isNumber' is not defined\n",
            "**********************************************************************\n",
            "File \"__main__\", line 11, in __main__.divide\n",
            "Failed example:\n",
            "    divide(6.6,3.3)\n",
            "Exception raised:\n",
            "    Traceback (most recent call last):\n",
            "      File \"/usr/lib/python3.7/doctest.py\", line 1337, in __run\n",
            "        compileflags, 1), test.globs)\n",
            "      File \"<doctest __main__.divide[3]>\", line 1, in <module>\n",
            "        divide(6.6,3.3)\n",
            "      File \"<ipython-input-7-a65596dd7640>\", line 16, in divide\n",
            "        if isNumber(x) and isNumber(y):\n",
            "    NameError: name 'isNumber' is not defined\n",
            "**********************************************************************\n",
            "File \"__main__\", line 13, in __main__.divide\n",
            "Failed example:\n",
            "    divide ('0',0)\n",
            "Exception raised:\n",
            "    Traceback (most recent call last):\n",
            "      File \"/usr/lib/python3.7/doctest.py\", line 1337, in __run\n",
            "        compileflags, 1), test.globs)\n",
            "      File \"<doctest __main__.divide[4]>\", line 1, in <module>\n",
            "        divide ('0',0)\n",
            "      File \"<ipython-input-7-a65596dd7640>\", line 16, in divide\n",
            "        if isNumber(x) and isNumber(y):\n",
            "    NameError: name 'isNumber' is not defined\n",
            "**********************************************************************\n",
            "1 items had failures:\n",
            "   5 of   5 in __main__.divide\n",
            "***Test Failed*** 5 failures.\n"
          ]
        },
        {
          "output_type": "execute_result",
          "data": {
            "text/plain": [
              "TestResults(failed=5, attempted=5)"
            ]
          },
          "metadata": {},
          "execution_count": 7
        }
      ]
    }
  ]
}