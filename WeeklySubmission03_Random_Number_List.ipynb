{
  "nbformat": 4,
  "nbformat_minor": 0,
  "metadata": {
    "colab": {
      "name": "WeeklySubmission03_Random_Number_List.ipynb",
      "provenance": [],
      "collapsed_sections": [
        "rtiCoY2fXsOm"
      ],
      "include_colab_link": true
    },
    "kernelspec": {
      "name": "python3",
      "display_name": "Python 3"
    },
    "language_info": {
      "name": "python"
    }
  },
  "cells": [
    {
      "cell_type": "markdown",
      "metadata": {
        "id": "view-in-github",
        "colab_type": "text"
      },
      "source": [
        "<a href=\"https://colab.research.google.com/github/wwkwinki/ISY5002-2022-Sem2/blob/main/WeeklySubmission03_Random_Number_List.ipynb\" target=\"_parent\"><img src=\"https://colab.research.google.com/assets/colab-badge.svg\" alt=\"Open In Colab\"/></a>"
      ]
    },
    {
      "cell_type": "markdown",
      "source": [
        "## Task 0: Save the notebook to Github"
      ],
      "metadata": {
        "id": "rtiCoY2fXsOm"
      }
    },
    {
      "cell_type": "markdown",
      "source": [
        "## Task 1: Randomly generate numbers and store them in a list"
      ],
      "metadata": {
        "id": "JrutiGpyXUx3"
      }
    },
    {
      "cell_type": "markdown",
      "source": [
        "General random numbers"
      ],
      "metadata": {
        "id": "O1Rwh_TfIi_2"
      }
    },
    {
      "cell_type": "code",
      "execution_count": null,
      "metadata": {
        "id": "XaXgvcY-XNE_",
        "colab": {
          "base_uri": "https://localhost:8080/"
        },
        "outputId": "887dc57e-839b-41ef-b7c5-39e25731bc28"
      },
      "outputs": [
        {
          "output_type": "stream",
          "name": "stdout",
          "text": [
            "17\n"
          ]
        }
      ],
      "source": [
        "import random\n",
        "\n",
        "randNum = random.randint(10,20)\n",
        "print(randNum)"
      ]
    },
    {
      "cell_type": "markdown",
      "source": [
        "Determine odd or even number"
      ],
      "metadata": {
        "id": "hD8R-AyiJQPG"
      }
    },
    {
      "cell_type": "code",
      "source": [
        "if randNum % 2 == 0:\n",
        "  print(randNum, \"is an even number\")\n",
        "else:\n",
        "  print(randNum, \"is an odd number\") "
      ],
      "metadata": {
        "colab": {
          "base_uri": "https://localhost:8080/"
        },
        "id": "D3bZy3FfJTf3",
        "outputId": "606ed12f-bae1-44d4-b59b-96b96f9ba6ea"
      },
      "execution_count": null,
      "outputs": [
        {
          "output_type": "stream",
          "name": "stdout",
          "text": [
            "17 is an odd number\n"
          ]
        }
      ]
    },
    {
      "cell_type": "markdown",
      "source": [
        "Add the random number to a list"
      ],
      "metadata": {
        "id": "bU2HKYWTKDkl"
      }
    },
    {
      "cell_type": "code",
      "source": [
        "randlist = []\n",
        "randNum = random.randint(10,20)\n",
        "\n",
        "randlist.append(randNum)\n",
        "print(randlist)"
      ],
      "metadata": {
        "colab": {
          "base_uri": "https://localhost:8080/"
        },
        "id": "sbQ0GlDOKHl1",
        "outputId": "0c5904ab-ac7b-424b-b130-217533b52d82"
      },
      "execution_count": null,
      "outputs": [
        {
          "output_type": "stream",
          "name": "stdout",
          "text": [
            "[15]\n"
          ]
        }
      ]
    },
    {
      "cell_type": "code",
      "source": [
        "#Adding five rand number into list\n",
        "\n",
        "import random\n",
        "randlist = []\n",
        "for item in range (1,6):\n",
        " randNum = random.randint(10,20)\n",
        " randlist.append(randNum)\n",
        "\n",
        "print(randlist)\n",
        "\n",
        "\n"
      ],
      "metadata": {
        "colab": {
          "base_uri": "https://localhost:8080/"
        },
        "id": "obWaZxKzKvDG",
        "outputId": "1b035359-7feb-457b-cc42-5676b913247c"
      },
      "execution_count": null,
      "outputs": [
        {
          "output_type": "stream",
          "name": "stdout",
          "text": [
            "[13, 15, 18, 13, 16]\n"
          ]
        }
      ]
    },
    {
      "cell_type": "code",
      "source": [
        "#Random numbers added to odd or even list\n",
        "import random\n",
        "randlist = []\n",
        "evenlist = []\n",
        "oddlist = []\n",
        "\n",
        "for item in range (1,6):\n",
        " randNum = random.randint(10,20)\n",
        " randlist.append(randNum)\n",
        "\n",
        "if randNum % 2 == 0:\n",
        "  evenlist.append(randNum)\n",
        "  print(randNum, \"is an even number\")\n",
        "else:\n",
        "  oddlist.append(randNum)\n",
        "  print(randNum, \"is an odd number\") \n",
        "\n",
        "print(randlist)\n",
        "print(\"The even number list is\", evenlist)\n",
        "print(\"The odd number list is\", oddlist)"
      ],
      "metadata": {
        "colab": {
          "base_uri": "https://localhost:8080/"
        },
        "id": "UBaK-FWCLxC3",
        "outputId": "75016bba-3dd0-4554-99ad-140aa8ae96f6"
      },
      "execution_count": null,
      "outputs": [
        {
          "output_type": "stream",
          "name": "stdout",
          "text": [
            "19 is an odd number\n",
            "[12, 14, 11, 13, 19]\n",
            "The even number list is []\n",
            "The odd number list is [19]\n"
          ]
        }
      ]
    },
    {
      "cell_type": "markdown",
      "source": [
        "## Optional: \n",
        "### Randomly generate numbers and store in two lists: odd and even.\n",
        "### For each list find the minimum, maximum and average"
      ],
      "metadata": {
        "id": "zjjcoEONXf23"
      }
    },
    {
      "cell_type": "code",
      "source": [
        ""
      ],
      "metadata": {
        "id": "ZduCTWusYA1m"
      },
      "execution_count": null,
      "outputs": []
    }
  ]
}